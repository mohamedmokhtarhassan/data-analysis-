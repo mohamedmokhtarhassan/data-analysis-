{
 "cells": [
  {
   "cell_type": "code",
   "execution_count": 1,
   "metadata": {},
   "outputs": [
    {
     "name": "stdout",
     "output_type": "stream",
     "text": [
      "enter a number: 70\n",
      "70.0 is even \n"
     ]
    }
   ],
   "source": [
    "#program to check if number is odd or even \n",
    "#to print floating point number with n number of decimal (\"{:.nf}\".format(number))\n",
    "num = float(input(\"enter a number: \"))\n",
    "if ( num % 2 ) == 0 :\n",
    "    print(\"{0} is even \".format(num))\n",
    "else:\n",
    "    print(\"{0} is odd \".format(num))"
   ]
  },
  {
   "cell_type": "code",
   "execution_count": null,
   "metadata": {},
   "outputs": [],
   "source": []
  },
  {
   "cell_type": "code",
   "execution_count": null,
   "metadata": {},
   "outputs": [],
   "source": []
  }
 ],
 "metadata": {
  "kernelspec": {
   "display_name": "Python 3",
   "language": "python",
   "name": "python3"
  },
  "language_info": {
   "codemirror_mode": {
    "name": "ipython",
    "version": 3
   },
   "file_extension": ".py",
   "mimetype": "text/x-python",
   "name": "python",
   "nbconvert_exporter": "python",
   "pygments_lexer": "ipython3",
   "version": "3.8.5"
  }
 },
 "nbformat": 4,
 "nbformat_minor": 4
}
